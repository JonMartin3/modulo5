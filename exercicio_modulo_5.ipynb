{
  "nbformat": 4,
  "nbformat_minor": 0,
  "metadata": {
    "colab": {
      "provenance": []
    },
    "kernelspec": {
      "name": "python3",
      "display_name": "Python 3"
    },
    "language_info": {
      "name": "python"
    }
  },
  "cells": [
    {
      "cell_type": "markdown",
      "source": [
        "# Exercicio referente ao modulo 5 do curso de ciencia de dados\n",
        "\n",
        "\n",
        "\n",
        "\n",
        "1. Utilize o comando 'input' para receber ao menos 2 números de entrada do usuário;\n",
        "2. Converta os valores recebidos pelo usuário para número inteiro (int) ou ponto flutuante (float);\n",
        "\n",
        "3. Implemente ao menos 4 operações matemáticas em seu código;\n",
        "\n",
        "4. Adicione um laço de repetição ou uma condicional. Por exemplo: você pode permitir que o usuário escolha qual operação realizar ou criar um loop que permita ao usuário realizar várias operações consecutivas;\n",
        "\n",
        "4. Utilize o comando 'print' para exibir o resultado da operação matemática.\n",
        "\n",
        "\n",
        "\n",
        "\n",
        "\n",
        "\n",
        "\n"
      ],
      "metadata": {
        "id": "JUvE9LWQniGF"
      }
    },
    {
      "cell_type": "code",
      "execution_count": 6,
      "metadata": {
        "id": "onMBGyl6XtcO",
        "colab": {
          "base_uri": "https://localhost:8080/"
        },
        "outputId": "a26b6b34-458c-4385-a905-5f73f2e53ae6"
      },
      "outputs": [
        {
          "name": "stdout",
          "output_type": "stream",
          "text": [
            "----- Calculadora ------\n",
            "Lista de operações:\n",
            "1 - soma\n",
            "2 - subtração\n",
            "3 - multiplicação\n",
            "4 - divisão\n",
            "0 - sair\n",
            "Informe a operação desejada ou digite 0 para sair: 1\n",
            "Informe um numero: 2\n",
            "Informe outro numero: 2\n",
            "O resultado da soma de 2 + 2 é 4\n",
            "Informe a operação desejada ou digite 0 para sair: 2\n",
            "Informe um numero: 5\n",
            "Informe outro numero: 3\n",
            "O resultado da subtração de 5 - 3 é 2\n",
            "Informe a operação desejada ou digite 0 para sair: 3\n",
            "Informe um numero: 5\n",
            "Informe outro numero: 5\n",
            "O resultado da multiplicação de 5.0 * 5.0 é 25.0\n",
            "Informe a operação desejada ou digite 0 para sair: 4\n",
            "Informe um numero: 10\n",
            "Informe outro numero: 2\n",
            "O resultado da divisão de 10.0 / 2.0 é 5.0\n",
            "Informe a operação desejada ou digite 0 para sair: 4\n",
            "Informe um numero: 10\n",
            "Informe outro numero: 0\n",
            "Não é possivel dividir por 0. Informe outro numero: 2\n",
            "O resultado da divisão de 10.0 / 2.0 é 5.0\n",
            "Informe a operação desejada ou digite 0 para sair: 10\n",
            "Operação invalida.\n",
            "Informe a operação desejada ou digite 0 para sair: 0\n"
          ]
        }
      ],
      "source": [
        "print('----- Calculadora ------')\n",
        "print('Lista de operações:')\n",
        "print('1 - soma')\n",
        "print('2 - subtração')\n",
        "print('3 - multiplicação')\n",
        "print('4 - divisão')\n",
        "print('0 - sair')\n",
        "\n",
        "while True:\n",
        "\n",
        "  operacao = int(input(\"Informe a operação desejada ou digite 0 para sair: \"))\n",
        "\n",
        "  if operacao == 1:\n",
        "    num1 = int(input(\"Informe um numero: \"))\n",
        "    num2 = int(input(\"Informe outro numero: \"))\n",
        "    total = num1 + num2\n",
        "    print(f'O resultado da soma de {num1} + {num2} é {total}')\n",
        "\n",
        "  elif operacao == 2:\n",
        "    num1 = int(input(\"Informe um numero: \"))\n",
        "    num2 = int(input(\"Informe outro numero: \"))\n",
        "    total = num1 - num2\n",
        "    print(f'O resultado da subtração de {num1} - {num2} é {total}')\n",
        "\n",
        "  elif operacao == 3:\n",
        "    num1 = float(input(\"Informe um numero: \"))\n",
        "    num2 = float(input(\"Informe outro numero: \"))\n",
        "    total = num1 * num2\n",
        "    print(f'O resultado da multiplicação de {num1} * {num2} é {total}')\n",
        "\n",
        "  elif operacao == 4:\n",
        "    num1 = float(input(\"Informe um numero: \"))\n",
        "    num2 = float(input(\"Informe outro numero: \"))\n",
        "    if num2 == 0:\n",
        "      num2 = float(input(\"Não é possivel dividir por 0. Informe outro numero: \"))\n",
        "    total = num1 / num2\n",
        "    print(f'O resultado da divisão de {num1} / {num2} é {total}')\n",
        "\n",
        "  elif operacao == 0:\n",
        "    break\n",
        "\n",
        "  else:\n",
        "    print(\"Operação invalida.\")\n",
        "\n",
        "\n",
        "\n"
      ]
    }
  ]
}